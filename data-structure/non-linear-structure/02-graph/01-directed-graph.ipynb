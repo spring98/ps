{
 "cells": [
  {
   "cell_type": "markdown",
   "source": [
    "## 그래프\n",
    "그래프는 실제 세계의 현상이나 사물을 (정점(vertex) 또는 노드(node))와 간선(edge)으로 표현하기 위해 사용"
   ],
   "metadata": {
    "collapsed": false
   }
  },
  {
   "cell_type": "markdown",
   "source": [
    "1. 노드(Node): 위치를 가리킴, 정점(Vertex) 라고도 함\n",
    "2. 간선(Edge): 위칙 간의 관계를 표시한 선으로 노드를 연결한 선이라고 보면 됨\n",
    "3. 인접 정점(Adjacent Vertex): 간선으로 직접 연결된 정점(또는 노드)\n",
    "4. Degree: 무방향 그래프에서 하나의 정점에 인접한 정점의 수\n",
    "5. In-Degree: 방향 그래프에서 외부에서 오는 간선의 수\n",
    "6. Out-Degree: 방향 그래프에서 외부로 향하는 간선의 수\n",
    "7. Path Length: 경로를 구성하기 위해 사용된 간선의 수\n",
    "8. Simple Path: 처음 정점과 끝 정점을 제외하고 중복된 정점이 없는 경로\n",
    "9. Cycle: 단순 경로의 시작과 종료 정점이 동일한 경우"
   ],
   "metadata": {
    "collapsed": false
   }
  },
  {
   "cell_type": "markdown",
   "source": [
    "#### Undirected Graph\n",
    "1. 방향이 없는 그래프\n",
    "2. 간선을 통해 노드는 양방향으로 갈 수 있음\n",
    "3. 보통 노드 A, B 가 연결되어 있는 경우 (A, B) 또는 (B, A) 로 표기"
   ],
   "metadata": {
    "collapsed": false
   }
  },
  {
   "cell_type": "markdown",
   "source": [
    "#### Directed Graph\n",
    "1. 간선에 방향이 있는 그래프\n",
    "2. 보통 노드 A, B 로 연결되면 <A, B> 표기 (<B, A> 는 방향이 반대)"
   ],
   "metadata": {
    "collapsed": false
   }
  },
  {
   "cell_type": "markdown",
   "source": [
    "#### Weighted Graph\n",
    "1. 간선에 비용 또는 가중치가 할당된 그래프"
   ],
   "metadata": {
    "collapsed": false
   }
  },
  {
   "cell_type": "markdown",
   "source": [
    "#### Connected Graph\n",
    "1. 무방향 그래프에 있는 모든 노드에 대해 항상 경로가 존재하는 경우\n"
   ],
   "metadata": {
    "collapsed": false
   }
  },
  {
   "cell_type": "markdown",
   "source": [
    "#### Disconnected Graph\n",
    "1. 무방향 그래프에서 특정 노드에 대해 경로가 존재하지 않는 경우"
   ],
   "metadata": {
    "collapsed": false
   }
  },
  {
   "cell_type": "markdown",
   "source": [
    "#### Cycle Graph\n",
    "1. 단순 경로의 시작 노드와 종료 노드가 동일한 경우"
   ],
   "metadata": {
    "collapsed": false
   }
  },
  {
   "cell_type": "markdown",
   "source": [
    "#### Acyclic Graph\n",
    "1. 사이클이 없는 그래프"
   ],
   "metadata": {
    "collapsed": false
   }
  },
  {
   "cell_type": "markdown",
   "source": [
    "#### Complete Graph\n",
    "1. 그래프의 모든 노드가 서로 연결되어 있는그래프"
   ],
   "metadata": {
    "collapsed": false
   }
  },
  {
   "cell_type": "markdown",
   "source": [
    "#### 그래프와 트리의 차이\n",
    "트리는 그래프 중에 속한 특별한 종류\n",
    "\n",
    "그래프\n",
    "1. 노드와 노드를 연결하는 간선으로 표현되는 자료구조\n",
    "2. 방향 그래프, 무방향 그래프 모두 존재\n",
    "3. 사이클 가능함, 순환 및 비순호나 그래프 모두 존재\n",
    "4. 루트 노드 존재하지 않음\n",
    "5. 부모자식 개념이 없음\n",
    "\n",
    "트리\n",
    "1. 그래프의 한 종류, 방향성이 있는 비순환 그래프\n",
    "2. 방향 그래프만 존재\n",
    "3. 비순환 그래프로 사이클이 존재하지 않음\n",
    "4. 루트 노드 존재\n",
    "5. 부모 자식 관계가 존재"
   ],
   "metadata": {
    "collapsed": false
   }
  },
  {
   "cell_type": "markdown",
   "source": [],
   "metadata": {
    "collapsed": false
   }
  },
  {
   "cell_type": "markdown",
   "source": [],
   "metadata": {
    "collapsed": false
   }
  },
  {
   "cell_type": "markdown",
   "source": [],
   "metadata": {
    "collapsed": false
   }
  },
  {
   "cell_type": "markdown",
   "source": [],
   "metadata": {
    "collapsed": false
   }
  },
  {
   "cell_type": "markdown",
   "source": [],
   "metadata": {
    "collapsed": false
   }
  },
  {
   "cell_type": "markdown",
   "source": [],
   "metadata": {
    "collapsed": false
   }
  },
  {
   "cell_type": "markdown",
   "source": [],
   "metadata": {
    "collapsed": false
   }
  }
 ],
 "metadata": {
  "kernelspec": {
   "display_name": "Python 3",
   "language": "python",
   "name": "python3"
  },
  "language_info": {
   "codemirror_mode": {
    "name": "ipython",
    "version": 2
   },
   "file_extension": ".py",
   "mimetype": "text/x-python",
   "name": "python",
   "nbconvert_exporter": "python",
   "pygments_lexer": "ipython2",
   "version": "2.7.6"
  }
 },
 "nbformat": 4,
 "nbformat_minor": 0
}
