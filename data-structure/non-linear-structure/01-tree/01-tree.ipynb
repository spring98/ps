{
 "cells": [
  {
   "cell_type": "markdown",
   "source": [
    "## 트리 구조\n",
    "1. Node 와 Branch 를 이용해서 사이클을 이루지 않도록 구성한 데이터 구조\n",
    "2. 트리 중 이진트리 형태 구조로 탐색 알고리즘에 많이 사용"
   ],
   "metadata": {
    "collapsed": false
   }
  },
  {
   "cell_type": "markdown",
   "source": [
    "Node: 트리에서 데이터를 저장하는 기본 요소 (데이터와 다른 연결된 노드에 대한 Branch 정보 포함)\n",
    "Root Node: 트리 맨 위에 있는 노드\n",
    "Level: 최상위 노드를 Level 0 으로 하였을 때 하위 Branch 로 연결된 노드의 깊으를 나타냄\n",
    "Parent Node: 어떤 노드의 다음 Level 에 연결한 노드\n",
    "Child Node: 어떤 노드의 상위 레벨에 연결된 노드\n",
    "Leaf Node: Child Node 가 하나도 없는 노드\n",
    "Sibling: 동일한 Parent Node 를 가진 노드\n",
    "Depth: 트리에서 Node 가 가질 수 있는 최대 Level"
   ],
   "metadata": {
    "collapsed": false
   }
  },
  {
   "cell_type": "markdown",
   "source": [
    "## 이진 트리와 이진 탐색 트리\n",
    "1. 이진트리: 노드의 최대 Branch 가 2인 트리\n",
    "2. 이진탐색트리: 이진 트리에 다음과 같은 추가적인 조건이 있는 트리, 왼쪽 노드는 해당 노드보다 작은 값, 오른쪽 노드는 해당 노드보다 큰 값을 가지고 있음"
   ],
   "metadata": {
    "collapsed": false
   }
  },
  {
   "cell_type": "markdown",
   "source": [
    "## 이진탐색트리의\n",
    "용도: 데이터 검색(탐색)\n",
    "장점: 탐색 속도를 개선할 수 있음"
   ],
   "metadata": {
    "collapsed": false
   }
  },
  {
   "cell_type": "markdown",
   "source": [
    "## 이진탐색트리 구현"
   ],
   "metadata": {
    "collapsed": false
   }
  },
  {
   "cell_type": "code",
   "execution_count": 45,
   "outputs": [],
   "source": [
    "class Node:\n",
    "    def __init__(self, value):\n",
    "        self.value = value\n",
    "        self.left = None\n",
    "        self.right = None\n",
    "\n",
    "class BinarySearchTree:\n",
    "    def __init__(self, node):\n",
    "        self.root = node\n",
    "\n",
    "    def insert(self, node):\n",
    "        compare_node = self.root\n",
    "\n",
    "        while True:\n",
    "            if node.value < compare_node.value:\n",
    "                if compare_node.left is not None:\n",
    "                    compare_node = compare_node.left\n",
    "\n",
    "                else:\n",
    "                    compare_node.left = node\n",
    "                    break\n",
    "\n",
    "            else:\n",
    "                if compare_node.right is not None:\n",
    "                    compare_node = compare_node.right\n",
    "\n",
    "                else:\n",
    "                    compare_node.right = node\n",
    "                    break\n",
    "\n",
    "    def descript(self, node=None):\n",
    "        if node is None:\n",
    "            node = self.root\n",
    "\n",
    "        if node.left is not None:\n",
    "            self.descript(node.left)\n",
    "\n",
    "        print(node.value)\n",
    "\n",
    "        if node.right is not None:\n",
    "            self.descript(node.right)\n",
    "\n",
    "    # 탐색 구현 return True or False\n",
    "    def search(self, value):\n",
    "        pass\n",
    "\n",
    "    # 삭제 구현\n",
    "    def delete(self):\n",
    "        pass\n"
   ],
   "metadata": {
    "collapsed": false
   }
  },
  {
   "cell_type": "code",
   "execution_count": 46,
   "outputs": [
    {
     "name": "stdout",
     "output_type": "stream",
     "text": [
      "1\n",
      "7\n",
      "8\n",
      "13\n",
      "17\n",
      "20\n",
      "21\n",
      "None\n"
     ]
    }
   ],
   "source": [
    "bst = BinarySearchTree(Node(13))\n",
    "bst.insert(Node(7))\n",
    "bst.insert(Node(1))\n",
    "bst.insert(Node(8))\n",
    "bst.insert(Node(20))\n",
    "bst.insert(Node(17))\n",
    "bst.insert(Node(21))\n",
    "\n",
    "print(bst.descript())\n",
    "\n",
    "# print(bst.root.value)\n",
    "# print(bst.root.right.value)"
   ],
   "metadata": {
    "collapsed": false
   }
  },
  {
   "cell_type": "markdown",
   "source": [
    "### 트리 삭제\n",
    "1. 삭제할 Node 의 오른쪽 자식 선택\n",
    "2. 오른쪽 자식의 가장 왼쪽에 있는 Node 선택\n",
    "3. 해당 Node 를 삭제할 Node 의 Parent Node 의 왼쪽 Branch 가 가리키게 함\n",
    "4. 해당 Node 의 왼쪽 Branch 가 삭제할 Node 의 왼쪽 Child Node 를 가리키게 함\n",
    "5. 해당 Node 의 오른쪽 Branch 가 삭제할 Node 의 오른쪽 Child Node 를 가리키게 함\n",
    "6. 만약 해당 Node 가 오른쪽 Child Node 를 가지고 있었을 경우에는 해당 Node 의 본래 Parent Node 의 왼쪽 Branch 가 해당 오른쪽 Child Node 를 가리키게 함"
   ],
   "metadata": {
    "collapsed": false
   }
  },
  {
   "cell_type": "code",
   "execution_count": null,
   "outputs": [],
   "source": [],
   "metadata": {
    "collapsed": false
   }
  },
  {
   "cell_type": "code",
   "execution_count": null,
   "outputs": [],
   "source": [],
   "metadata": {
    "collapsed": false
   }
  },
  {
   "cell_type": "markdown",
   "source": [],
   "metadata": {
    "collapsed": false
   }
  }
 ],
 "metadata": {
  "kernelspec": {
   "display_name": "Python 3",
   "language": "python",
   "name": "python3"
  },
  "language_info": {
   "codemirror_mode": {
    "name": "ipython",
    "version": 2
   },
   "file_extension": ".py",
   "mimetype": "text/x-python",
   "name": "python",
   "nbconvert_exporter": "python",
   "pygments_lexer": "ipython2",
   "version": "2.7.6"
  }
 },
 "nbformat": 4,
 "nbformat_minor": 0
}
