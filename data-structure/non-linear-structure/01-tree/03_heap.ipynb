{
 "cells": [
  {
   "cell_type": "markdown",
   "source": [
    "## Heap\n",
    "데이터에서 최대값과 최소값을 빠르게 찾기 위해 고안된 완전 이진 트리 (Complete Binary Tree)\n",
    "\n",
    "사용하는 이유\n",
    "1. 배열에 데이터를 넣고, 최대값과 최소값을 찾으려면 O(n) 이 걸림\n",
    "2. 힙에 데이터를 넣고 최대값과 최소값을 찾으면 O(logn) 이 걸림\n",
    "3. 우선순위 큐와 같이 최대값 또는 최소값을 빠르게 찾아야 하는 자료구조 및 알고리즘 구현 등에 활용됨"
   ],
   "metadata": {
    "collapsed": false
   }
  },
  {
   "cell_type": "markdown",
   "source": [
    "## 힙의 구조\n",
    "1. 힙은 최대값을 구하기 위한 최대힙과 최소값을 구하기 위한 최소힙으로 분류\n",
    "\n",
    "조건\n",
    "1. 각 노드의 값은 해당 노드의 자식노드가 가진 값보다 크거나 같다. (최대힙)\n",
    "2. 완전 이진 트리 형태를 가짐"
   ],
   "metadata": {
    "collapsed": false
   }
  },
  {
   "cell_type": "markdown",
   "source": [
    "## 힙과 이진 탐색 트리의 공통점과 차이점\n",
    "공통점: 이진트리\n",
    "차이점\n",
    "1. 힙은 각 노드의 값이 자식 노드보다 크거나 같지만 (자식 끼리의 순서가 없음)이진 탐색 트리는 왼쪽 자식 노드, 부모, 오른쪽 자식 노드 순서대로 값이 커짐\n",
    "2. 이진 탐색 트리는 탐색을 위한 구조, 힙은 최대/최소 값 검색을 위한 구조 중 하나일 뿐임"
   ],
   "metadata": {
    "collapsed": false
   }
  },
  {
   "cell_type": "markdown",
   "source": [],
   "metadata": {
    "collapsed": false
   }
  },
  {
   "cell_type": "markdown",
   "source": [],
   "metadata": {
    "collapsed": false
   }
  },
  {
   "cell_type": "markdown",
   "source": [],
   "metadata": {
    "collapsed": false
   }
  },
  {
   "cell_type": "markdown",
   "source": [],
   "metadata": {
    "collapsed": false
   }
  },
  {
   "cell_type": "markdown",
   "source": [],
   "metadata": {
    "collapsed": false
   }
  },
  {
   "cell_type": "markdown",
   "source": [],
   "metadata": {
    "collapsed": false
   }
  },
  {
   "cell_type": "markdown",
   "source": [],
   "metadata": {
    "collapsed": false
   }
  },
  {
   "cell_type": "code",
   "execution_count": null,
   "outputs": [],
   "source": [],
   "metadata": {
    "collapsed": false
   }
  },
  {
   "cell_type": "code",
   "execution_count": null,
   "outputs": [],
   "source": [],
   "metadata": {
    "collapsed": false
   }
  },
  {
   "cell_type": "markdown",
   "source": [],
   "metadata": {
    "collapsed": false
   }
  }
 ],
 "metadata": {
  "kernelspec": {
   "display_name": "Python 3",
   "language": "python",
   "name": "python3"
  },
  "language_info": {
   "codemirror_mode": {
    "name": "ipython",
    "version": 2
   },
   "file_extension": ".py",
   "mimetype": "text/x-python",
   "name": "python",
   "nbconvert_exporter": "python",
   "pygments_lexer": "ipython2",
   "version": "2.7.6"
  }
 },
 "nbformat": 4,
 "nbformat_minor": 0
}
