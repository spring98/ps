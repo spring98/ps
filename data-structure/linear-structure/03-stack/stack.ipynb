{
 "cells": [
  {
   "cell_type": "markdown",
   "source": [
    "### 스택\n",
    "- LIFO\n",
    "- Push\n",
    "- Pop\n",
    "- 컴퓨터 내부의 프로세스 구조의 함수 동작 방식\n",
    "\n",
    "### 장점\n",
    "- 구조가 단순해서 구현이 쉽다.\n",
    "- 데이터 저장/읽기 속도가 빠르다.\n",
    "\n",
    "### 단점\n",
    "- 데이터 최대 개수를 미리 정해야 한다.\n",
    "- 파이썬의 재귀함수는 1000번 까지만 호출 가능\n",
    "- 저장공간의 낭비가 발샐할 수 있다.\n",
    "\n",
    "#### 자바\n",
    "// 동기적 처리하느라 성능이슈가 발생할 수 있다\n",
    "- Stack<Integer> stack = new Stack<>();\n",
    "- Push > stack.push(10);\n",
    "- Pop\n",
    "- 1. stack.pop() > 값을 반환하고 제거\n",
    "- 2. stack.peek() > 제일 상단 값 참조\n",
    "\n",
    "// 보통 ArrayDeque 로 구현한다.\n",
    "- Deque<Integer> stack = new ArrayDeque<>();\n",
    "- Push > stack.push(10);\n",
    "- Pop\n",
    "- 1. stack.pop() > 값을 반환하고 제거\n",
    "- 2. stack.peek() > 제일 상단 값 참조"
   ],
   "metadata": {
    "collapsed": false
   }
  },
  {
   "cell_type": "markdown",
   "source": [
    "#### 재귀함수 호출"
   ],
   "metadata": {
    "collapsed": false
   }
  },
  {
   "cell_type": "code",
   "execution_count": 1,
   "outputs": [
    {
     "name": "stdout",
     "output_type": "stream",
     "text": [
      "4\n",
      "3\n",
      "2\n",
      "1\n",
      "0\n",
      "ended\n",
      "returned 0\n",
      "returned 1\n",
      "returned 2\n",
      "returned 3\n",
      "returned 4\n"
     ]
    }
   ],
   "source": [
    "def recursive(data):\n",
    "    if data < 0:\n",
    "        print('ended')\n",
    "    else:\n",
    "        print(data)\n",
    "        recursive(data-1)\n",
    "        print('returned', data)\n",
    "\n",
    "recursive(4)"
   ],
   "metadata": {
    "collapsed": false
   }
  },
  {
   "cell_type": "markdown",
   "source": [
    "#### 파이썬 구현"
   ],
   "metadata": {
    "collapsed": false
   }
  },
  {
   "cell_type": "code",
   "execution_count": 3,
   "outputs": [],
   "source": [
    "stack_list = []\n",
    "\n",
    "def push(data):\n",
    "    stack_list.append(data)\n",
    "\n",
    "def pop():\n",
    "    return stack_list.pop()\n",
    "\n",
    "for i in range(10):\n",
    "    push(i)"
   ],
   "metadata": {
    "collapsed": false
   }
  },
  {
   "cell_type": "code",
   "execution_count": 4,
   "outputs": [
    {
     "data": {
      "text/plain": "10"
     },
     "execution_count": 4,
     "metadata": {},
     "output_type": "execute_result"
    }
   ],
   "source": [
    "len(stack_list)"
   ],
   "metadata": {
    "collapsed": false
   }
  },
  {
   "cell_type": "code",
   "execution_count": 5,
   "outputs": [
    {
     "data": {
      "text/plain": "9"
     },
     "execution_count": 5,
     "metadata": {},
     "output_type": "execute_result"
    }
   ],
   "source": [
    "pop()"
   ],
   "metadata": {
    "collapsed": false
   }
  },
  {
   "cell_type": "code",
   "execution_count": null,
   "outputs": [],
   "source": [],
   "metadata": {
    "collapsed": false
   }
  }
 ],
 "metadata": {
  "kernelspec": {
   "display_name": "Python 3",
   "language": "python",
   "name": "python3"
  },
  "language_info": {
   "codemirror_mode": {
    "name": "ipython",
    "version": 2
   },
   "file_extension": ".py",
   "mimetype": "text/x-python",
   "name": "python",
   "nbconvert_exporter": "python",
   "pygments_lexer": "ipython2",
   "version": "2.7.6"
  }
 },
 "nbformat": 4,
 "nbformat_minor": 0
}
