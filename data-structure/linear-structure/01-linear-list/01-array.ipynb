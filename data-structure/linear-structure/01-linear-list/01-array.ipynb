{
 "cells": [
  {
   "cell_type": "markdown",
   "source": [
    "### 배열\n",
    "- 데이터를 나열하고, 각 데이터를 인덱스에 대응하도록 구성한 데이터 구조\n",
    "- 파이썬에서는 리스트 타입이 배열 기능을 제공하고 있음\n",
    "\n",
    "#### 자바\n",
    "- // 정적크기, 메모리 상 연속된 공간에 저장\n",
    "- int[] scores = new int[5];\n",
    "-\n",
    "- // 동적크기, 메모리 상 연속적으로 저장, 내부적으로는 배열로 이루어져 있음\n",
    "- ArrayList<Integer> scores = new ArrayList<Integer>();\n",
    "-\n",
    "- // 동적크기, 메모리 상 비연속적으로 저장\n",
    "- LinkedList<Integer> scores = new LinkedList<>();\n",
    "-\n",
    "- // 동적크기, 메모리 상 연속적으로 저장\n",
    "- // 기본적으로 동기화되어 멀티스레드에서 안전하지만 성능이슈가 발생할 수 있음\n",
    "- Vector<Integer> scores = new Vector<>();\n",
    "-\n",
    "- // List 는 인터페이스로 ArrayList, LinkedList, Vector 타입을 추상화\n",
    "- List<Integer> scores = new ArrayList<>();\n",
    "- List<Integer> scores = new LinkedList<>();\n",
    "- List<Integer> scores = new Vector<>();"
   ],
   "metadata": {
    "collapsed": false
   }
  },
  {
   "cell_type": "markdown",
   "source": [
    "### 배열이 필요한 이유\n",
    "- 같은 종류의 데이터를 효율적으로 관리하기 위해 사용\n",
    "- 같은 종류의 데이터를 순차적으로 저장"
   ],
   "metadata": {
    "collapsed": false
   }
  },
  {
   "cell_type": "markdown",
   "source": [
    "### 배열의 장점\n",
    "- 빠른 접근 가능"
   ],
   "metadata": {
    "collapsed": false
   }
  },
  {
   "cell_type": "markdown",
   "source": [
    "### 배열의 단점\n",
    "- 추가/삭제가 쉽지 않음"
   ],
   "metadata": {
    "collapsed": false
   }
  },
  {
   "cell_type": "code",
   "execution_count": null,
   "outputs": [],
   "source": [],
   "metadata": {
    "collapsed": false
   }
  },
  {
   "cell_type": "code",
   "execution_count": null,
   "outputs": [],
   "source": [],
   "metadata": {
    "collapsed": false
   }
  }
 ],
 "metadata": {
  "kernelspec": {
   "display_name": "Python 3",
   "language": "python",
   "name": "python3"
  },
  "language_info": {
   "codemirror_mode": {
    "name": "ipython",
    "version": 2
   },
   "file_extension": ".py",
   "mimetype": "text/x-python",
   "name": "python",
   "nbconvert_exporter": "python",
   "pygments_lexer": "ipython2",
   "version": "2.7.6"
  }
 },
 "nbformat": 4,
 "nbformat_minor": 0
}
