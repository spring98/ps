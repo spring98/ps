{
 "cells": [
  {
   "cell_type": "markdown",
   "source": [
    "### 링크드 리스트"
   ],
   "metadata": {
    "collapsed": false
   }
  },
  {
   "cell_type": "markdown",
   "source": [
    "장점\n",
    "1. 데이터 공간을 미리 할당하지 않아도 된다.\n",
    "\n",
    "단점\n",
    "1. 연결을 위한 별도 데이터 공간이 필요하므로 저장공간 효율이 높지 않다.\n",
    "2. 연결 정보를 찾는 시간이 필요하므로 접근 속도가 느리다.\n",
    "3. 중간 데이터 삭제 시 앞 뒤 데이터의 연결을 재구성해야하는 부가적인 작업이 필요하다."
   ],
   "metadata": {
    "collapsed": false
   }
  },
  {
   "cell_type": "markdown",
   "source": [
    "파이썬은 리스트 타입이 링크드 리스트의 기능을 모두 지원함"
   ],
   "metadata": {
    "collapsed": false
   }
  },
  {
   "cell_type": "code",
   "execution_count": 42,
   "outputs": [],
   "source": [
    "class SinglyLinkedList:\n",
    "    def __init__(self):\n",
    "        self.head = None\n",
    "        self.tail = None\n",
    "\n",
    "    def insert(self, node):\n",
    "        if self.head is None:\n",
    "            self.head = node\n",
    "\n",
    "        else:\n",
    "            self.tail.next = node\n",
    "\n",
    "        self.tail = node\n",
    "\n",
    "    def pop(self):\n",
    "        pass\n",
    "\n",
    "    def descript(self):\n",
    "        node = self.head\n",
    "        while node:\n",
    "            print(node.data)\n",
    "            node = node.next\n"
   ],
   "metadata": {
    "collapsed": false
   }
  },
  {
   "cell_type": "code",
   "execution_count": 43,
   "outputs": [],
   "source": [
    "class Node:\n",
    "    def __init__(self, data):\n",
    "        self.data = data\n",
    "        self.next = None"
   ],
   "metadata": {
    "collapsed": false
   }
  },
  {
   "cell_type": "code",
   "execution_count": 45,
   "outputs": [
    {
     "name": "stdout",
     "output_type": "stream",
     "text": [
      "1\n",
      "2\n",
      "3\n"
     ]
    }
   ],
   "source": [
    "singleLinkedList = SinglyLinkedList()\n",
    "\n",
    "singleLinkedList.insert(Node(1))\n",
    "singleLinkedList.insert(Node(2))\n",
    "singleLinkedList.insert(Node(3))\n",
    "\n",
    "singleLinkedList.descript()"
   ],
   "metadata": {
    "collapsed": false
   }
  },
  {
   "cell_type": "code",
   "execution_count": null,
   "outputs": [],
   "source": [],
   "metadata": {
    "collapsed": false
   }
  }
 ],
 "metadata": {
  "kernelspec": {
   "display_name": "Python 3",
   "language": "python",
   "name": "python3"
  },
  "language_info": {
   "codemirror_mode": {
    "name": "ipython",
    "version": 2
   },
   "file_extension": ".py",
   "mimetype": "text/x-python",
   "name": "python",
   "nbconvert_exporter": "python",
   "pygments_lexer": "ipython2",
   "version": "2.7.6"
  }
 },
 "nbformat": 4,
 "nbformat_minor": 0
}
