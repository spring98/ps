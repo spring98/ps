{
 "cells": [
  {
   "cell_type": "markdown",
   "source": [
    "### 해쉬 테이블\n",
    "- Key 에 Value 를 저장하는 구조\n",
    "- 파이썬에서는 Dictionary 타입이 해쉬 테이블의 예\n",
    "- 보통 배열로 미리 해쉬 테이블 사이즈 만큼 생성 후에 사용 (공간과 탐색 시간을 맞바꾸는 기법)\n",
    "- 키 -> 해시 함수 -> 해시 주소 (Key 를 해싱 함수로 연산해서, 해쉬 값을 알아내고 이를 기반으로\n",
    "- 해쉬 테이블에서 해당 Key 에 대한 데이터 위치를 일관성 있게 찾을 수 있음)\n",
    "\n",
    "#### 자바\n"
   ],
   "metadata": {
    "collapsed": false
   }
  },
  {
   "cell_type": "markdown",
   "source": [
    "장점\n",
    "1. 데이터 저장/읽기 속도가 빠르다\n",
    "2. 키에 대한 데이터의 중복 확인이 쉽다.\n",
    "\n",
    "단점\n",
    "1. 일반적으로 저장공간이 더 많이 필요하다.\n",
    "2. 여러 키에 해당하는 주소가 동일할 경우 충돌을 해결하기 위한 별도 자료구조가 필요하다.\n",
    "\n",
    "주요 용도\n",
    "1. 검색이 많이 필요한 경우\n",
    "2. 저장, 삭제, 읽기가 빈번한 경우\n",
    "3. 캐쉬 구현 시(중복 확인이 쉽기 때문)"
   ],
   "metadata": {
    "collapsed": false
   }
  },
  {
   "cell_type": "markdown",
   "source": [
    "해쉬 충돌 (Hash Collision)\n",
    "\n",
    "해결방법\n",
    "1. Chaining\n",
    "    개방 해슁 또는 open hashing 기법 중 하나: 해쉬 테이블 저장공간 외의 공간을 활용하는 기법\n",
    "    충돌이 일어나면, 링크드 리스트를 활용해서 데이터를 추가로 뒤에 연결시켜 저장하는 기법\n",
    "2. Linear Probing\n",
    "    폐쇄 해싱 또는 close hashing 기법 중 하나: 해쉬 테이블 저장공간 안에서 충돌 문제를 해결하는 기법\n",
    "    충돌이 일어나면 해당 hash address 의 다음 address 부터 맨ㄴ 처음 나오는 빈 공간에 저장하는 기법\n",
    "        > 저장공간 활용도를 높이기 위한 기법"
   ],
   "metadata": {
    "collapsed": false
   }
  },
  {
   "cell_type": "code",
   "execution_count": 19,
   "outputs": [],
   "source": [
    "hash_table = list([i for i in range(10)])\n",
    "\n",
    "def hash_func(key):\n",
    "    return key % 5\n",
    "\n",
    "def storage_data(data, value):\n",
    "    key = hash(data)\n",
    "    hash_address = hash_func(key)\n",
    "    hash_table[hash_address] = value\n",
    "\n",
    "def get_data(data):\n",
    "    key = hash(data)\n",
    "    hash_address = hash_func(key)\n",
    "    return hash_table[hash_address]"
   ],
   "metadata": {
    "collapsed": false
   }
  },
  {
   "cell_type": "code",
   "execution_count": 20,
   "outputs": [
    {
     "name": "stdout",
     "output_type": "stream",
     "text": [
      "1234\n",
      "9012\n",
      "9012\n"
     ]
    }
   ],
   "source": [
    "storage_data('A', '1234')\n",
    "storage_data('B', '5678')\n",
    "storage_data('C', '9012')\n",
    "\n",
    "print(get_data('A'))\n",
    "print(get_data('B'))\n",
    "print(get_data('C'))"
   ],
   "metadata": {
    "collapsed": false
   }
  },
  {
   "cell_type": "markdown",
   "source": [
    "### Chaining"
   ],
   "metadata": {
    "collapsed": false
   }
  },
  {
   "cell_type": "code",
   "execution_count": 53,
   "outputs": [],
   "source": [
    "hash_table = list([[] for _ in range(4)])\n",
    "\n",
    "def hash_func(key):\n",
    "    return key % 3\n",
    "\n",
    "def storage_data(data, value):\n",
    "    index_key = hash(data)\n",
    "    hash_address = hash_func(index_key)\n",
    "\n",
    "    linked_list_in_hash_table = hash_table[hash_address]\n",
    "    for i, (key, val) in enumerate(linked_list_in_hash_table):\n",
    "        # 중복된 키에 대해서는 value 를 덮어씌워 준다.\n",
    "        if key == index_key:\n",
    "            linked_list_in_hash_table[i] = (index_key, value)\n",
    "            return\n",
    "\n",
    "    # 중복된 키가 아니라면 뒤에 추가한다.\n",
    "    linked_list_in_hash_table.append((index_key, value))\n",
    "\n",
    "def get_data(data):\n",
    "    index_key = hash(data)\n",
    "    hash_address = hash_func(index_key)\n",
    "\n",
    "    # 테이블에 데이터가 없는 경우\n",
    "    linked_list_in_hash_table = hash_table[hash_address]\n",
    "    if linked_list_in_hash_table:\n",
    "        for key, value in linked_list_in_hash_table:\n",
    "                if key == index_key:\n",
    "                    return value\n",
    "\n",
    "    return None\n"
   ],
   "metadata": {
    "collapsed": false
   }
  },
  {
   "cell_type": "code",
   "execution_count": 54,
   "outputs": [
    {
     "name": "stdout",
     "output_type": "stream",
     "text": [
      "[[(-5141537848398371067, '2'), (8251129261628733045, '4')], [(-7484228369275307546, '1'), (2144212853777071213, '3')], [], []]\n",
      "1\n",
      "2\n",
      "3\n",
      "4\n",
      "None\n"
     ]
    }
   ],
   "source": [
    "storage_data('A', '1')\n",
    "storage_data('B', '2')\n",
    "storage_data('C', '3')\n",
    "storage_data('D', '4')\n",
    "print(hash_table)\n",
    "\n",
    "print(get_data('A'))\n",
    "print(get_data('B'))\n",
    "print(get_data('C'))\n",
    "print(get_data('D'))\n",
    "print(get_data('E'))"
   ],
   "metadata": {
    "collapsed": false
   }
  },
  {
   "cell_type": "markdown",
   "source": [
    "## Linear Probing"
   ],
   "metadata": {
    "collapsed": false
   }
  },
  {
   "cell_type": "code",
   "execution_count": 1,
   "outputs": [],
   "source": [
    "hash_table = list([0 for _ in range(4)])\n",
    "\n",
    "def hash_func(key):\n",
    "    return key % 3\n",
    "\n",
    "def storage_data(data, value):\n",
    "    index_key = hash(data)\n",
    "    hash_address = hash_func(index_key)\n",
    "\n",
    "    if not hash_table[hash_address]:\n",
    "        hash_table[hash_address] = [index_key, value]\n",
    "\n",
    "    else:\n",
    "        for i in range(hash_address, len(hash_table)):\n",
    "            if not hash_table[i]:\n",
    "                hash_table[i] = [index_key, value]\n",
    "                return\n",
    "\n",
    "            # 중복 키 업데이트\n",
    "            elif hash_table[i][0] == index_key:\n",
    "                hash_table[i][1] = value\n",
    "                return\n",
    "\n",
    "def get_data(data):\n",
    "    index_key = hash(data)\n",
    "    hash_address = hash_func(index_key)\n",
    "\n",
    "    if hash_table[hash_address]:\n",
    "       for i in range(hash_address, len(hash_table)):\n",
    "           if hash_table[i] and hash_table[i][0] == index_key:\n",
    "                return hash_table[i][1]\n",
    "\n",
    "    return None"
   ],
   "metadata": {
    "collapsed": false
   }
  },
  {
   "cell_type": "code",
   "execution_count": 5,
   "outputs": [
    {
     "name": "stdout",
     "output_type": "stream",
     "text": [
      "1\n",
      "20\n",
      "30\n",
      "[0, [8966882559392686114, 1], [-2155631214673226311, 20], [3668317212441387536, 30]]\n"
     ]
    }
   ],
   "source": [
    "# 테스트\n",
    "storage_data('apple', 1)\n",
    "storage_data('apple1', 2)\n",
    "storage_data('apple2', 3)\n",
    "storage_data('banana', 20)\n",
    "storage_data('grape', 30)\n",
    "print(get_data('apple'))  # 출력: 10\n",
    "print(get_data('banana'))  # 출력: 20\n",
    "print(get_data('grape'))  # 출력: 30\n",
    "print(hash_table)  # 해시 테이블 상태 출력"
   ],
   "metadata": {
    "collapsed": false
   }
  },
  {
   "cell_type": "markdown",
   "source": [
    "#### 충돌이 빈번할 때\n",
    "hash 테이블의 공간을 늘려준다. ( % 8 -> % 16 등)"
   ],
   "metadata": {
    "collapsed": false
   }
  },
  {
   "cell_type": "markdown",
   "source": [
    "#### 시간복잡도\n",
    "일반적인 경우: O(1)\n",
    "최악의 경우 - 모두 충돌이 일어나는 경우: O(n)"
   ],
   "metadata": {
    "collapsed": false
   }
  },
  {
   "cell_type": "code",
   "execution_count": null,
   "outputs": [],
   "source": [],
   "metadata": {
    "collapsed": false
   }
  }
 ],
 "metadata": {
  "kernelspec": {
   "display_name": "Python 3",
   "language": "python",
   "name": "python3"
  },
  "language_info": {
   "codemirror_mode": {
    "name": "ipython",
    "version": 2
   },
   "file_extension": ".py",
   "mimetype": "text/x-python",
   "name": "python",
   "nbconvert_exporter": "python",
   "pygments_lexer": "ipython2",
   "version": "2.7.6"
  }
 },
 "nbformat": 4,
 "nbformat_minor": 0
}
